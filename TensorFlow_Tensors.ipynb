{
  "nbformat": 4,
  "nbformat_minor": 0,
  "metadata": {
    "colab": {
      "provenance": [],
      "authorship_tag": "ABX9TyOqTu8GVuwM2d3nlQK8ukfH",
      "include_colab_link": true
    },
    "kernelspec": {
      "name": "python3",
      "display_name": "Python 3"
    },
    "language_info": {
      "name": "python"
    }
  },
  "cells": [
    {
      "cell_type": "markdown",
      "metadata": {
        "id": "view-in-github",
        "colab_type": "text"
      },
      "source": [
        "<a href=\"https://colab.research.google.com/github/Pratik-554/Deep-learning-with-TensorFlow2/blob/main/TensorFlow_Tensors.ipynb\" target=\"_parent\"><img src=\"https://colab.research.google.com/assets/colab-badge.svg\" alt=\"Open In Colab\"/></a>"
      ]
    },
    {
      "cell_type": "code",
      "execution_count": null,
      "metadata": {
        "id": "3WoZNgWKjslg"
      },
      "outputs": [],
      "source": [
        "import tensorflow as tf\n",
        "import numpy as np"
      ]
    },
    {
      "cell_type": "code",
      "source": [
        "tensor_zero_d = tf.constant(1)\n",
        "print(tensor_zero_d)"
      ],
      "metadata": {
        "colab": {
          "base_uri": "https://localhost:8080/"
        },
        "id": "NapCM2sZkAkD",
        "outputId": "12d0c85a-6441-4f57-eb77-d28bd28b3793"
      },
      "execution_count": null,
      "outputs": [
        {
          "output_type": "stream",
          "name": "stdout",
          "text": [
            "tf.Tensor(1, shape=(), dtype=int32)\n"
          ]
        }
      ]
    },
    {
      "cell_type": "code",
      "source": [
        "tensor_one_d = tf.constant([3,0,3], dtype = tf.float32)\n",
        "print(tensor_one_d)\n",
        "\n",
        "casted_tensor_one_d = tf.cast(tensor_one_d, dtype = tf.uint16)\n",
        "print(casted_tensor_one_d)"
      ],
      "metadata": {
        "colab": {
          "base_uri": "https://localhost:8080/"
        },
        "id": "H8Glmk7tkIal",
        "outputId": "d3cc9f61-d578-42cd-8336-24683270f245"
      },
      "execution_count": null,
      "outputs": [
        {
          "output_type": "stream",
          "name": "stdout",
          "text": [
            "tf.Tensor([3. 0. 3.], shape=(3,), dtype=float32)\n",
            "tf.Tensor([3 0 3], shape=(3,), dtype=uint16)\n"
          ]
        }
      ]
    },
    {
      "cell_type": "code",
      "source": [
        "tensor_two_d = tf.constant([[1,2,0],\n",
        "                            [3,5,-1],\n",
        "                            [1,5,6],\n",
        "                            [2,3,8]])\n",
        "\n",
        "print(tensor_two_d)"
      ],
      "metadata": {
        "colab": {
          "base_uri": "https://localhost:8080/"
        },
        "id": "fHljGOs4kwq7",
        "outputId": "3d356cf4-d444-4be1-8558-369d05ba1d74"
      },
      "execution_count": null,
      "outputs": [
        {
          "output_type": "stream",
          "name": "stdout",
          "text": [
            "tf.Tensor(\n",
            "[[ 1  2  0]\n",
            " [ 3  5 -1]\n",
            " [ 1  5  6]\n",
            " [ 2  3  8]], shape=(4, 3), dtype=int32)\n"
          ]
        }
      ]
    },
    {
      "cell_type": "code",
      "source": [
        "tensor_three_d = tf.constant([\n",
        "                            [[1,2,0],\n",
        "                             [3,5,-1]],\n",
        "\n",
        "                            [[10,2,0],\n",
        "                             [1,0,2]],\n",
        "\n",
        "                            [[5,8,0],\n",
        "                             [2,7,0]],\n",
        "\n",
        "                            [[2,1,9],\n",
        "                             [4,-3,32]]])\n",
        "print(tensor_three_d)"
      ],
      "metadata": {
        "colab": {
          "base_uri": "https://localhost:8080/"
        },
        "id": "tPC50CNelstz",
        "outputId": "dac16c78-a527-4681-9149-a0248a9b970b"
      },
      "execution_count": null,
      "outputs": [
        {
          "output_type": "stream",
          "name": "stdout",
          "text": [
            "tf.Tensor(\n",
            "[[[ 1  2  0]\n",
            "  [ 3  5 -1]]\n",
            "\n",
            " [[10  2  0]\n",
            "  [ 1  0  2]]\n",
            "\n",
            " [[ 5  8  0]\n",
            "  [ 2  7  0]]\n",
            "\n",
            " [[ 2  1  9]\n",
            "  [ 4 -3 32]]], shape=(4, 2, 3), dtype=int32)\n"
          ]
        }
      ]
    },
    {
      "cell_type": "code",
      "source": [
        "tensor_four_d = tf.constant([[[[1,2,0],\n",
        "                              [3,5,-1]],\n",
        "\n",
        "                            [[10,2,0],\n",
        "                             [1,0,2]],\n",
        "\n",
        "                            [[5,8,0],\n",
        "                             [2,7,0]],\n",
        "\n",
        "                            [[2,1,9],\n",
        "                             [4,-3,32]]],\n",
        "\n",
        "\n",
        "                            [[[0,2,5],\n",
        "                              [5,3,1]],\n",
        "\n",
        "                            [[0,2,0],\n",
        "                             [-1,10,0]],\n",
        "\n",
        "                            [[0,5,1],\n",
        "                             [1,7,0]],\n",
        "\n",
        "                            [[3,8,7],\n",
        "                             [-1,7,0]]],\n",
        "\n",
        "\n",
        "                            [[[4,5,4],\n",
        "                              [3,1,1]],\n",
        "\n",
        "                            [[0,2,5],\n",
        "                             [0,4,3]],\n",
        "\n",
        "                            [[3,2,4],\n",
        "                             [5,8,3]],\n",
        "\n",
        "                            [[8,2,5],\n",
        "                             [2,3,3]]]])\n",
        "print(tensor_four_d)"
      ],
      "metadata": {
        "colab": {
          "base_uri": "https://localhost:8080/"
        },
        "id": "4fVrozJlnHkh",
        "outputId": "010397c9-4338-4359-da0d-1f49baaa6b0b"
      },
      "execution_count": null,
      "outputs": [
        {
          "output_type": "stream",
          "name": "stdout",
          "text": [
            "tf.Tensor(\n",
            "[[[[ 1  2  0]\n",
            "   [ 3  5 -1]]\n",
            "\n",
            "  [[10  2  0]\n",
            "   [ 1  0  2]]\n",
            "\n",
            "  [[ 5  8  0]\n",
            "   [ 2  7  0]]\n",
            "\n",
            "  [[ 2  1  9]\n",
            "   [ 4 -3 32]]]\n",
            "\n",
            "\n",
            " [[[ 0  2  5]\n",
            "   [ 5  3  1]]\n",
            "\n",
            "  [[ 0  2  0]\n",
            "   [-1 10  0]]\n",
            "\n",
            "  [[ 0  5  1]\n",
            "   [ 1  7  0]]\n",
            "\n",
            "  [[ 3  8  7]\n",
            "   [-1  7  0]]]\n",
            "\n",
            "\n",
            " [[[ 4  5  4]\n",
            "   [ 3  1  1]]\n",
            "\n",
            "  [[ 0  2  5]\n",
            "   [ 0  4  3]]\n",
            "\n",
            "  [[ 3  2  4]\n",
            "   [ 5  8  3]]\n",
            "\n",
            "  [[ 8  2  5]\n",
            "   [ 2  3  3]]]], shape=(3, 4, 2, 3), dtype=int32)\n"
          ]
        }
      ]
    },
    {
      "cell_type": "code",
      "source": [
        "x = tf.constant(1, shape=(4,4))\n",
        "print(x)"
      ],
      "metadata": {
        "colab": {
          "base_uri": "https://localhost:8080/"
        },
        "id": "xtp0CMUk9UdK",
        "outputId": "e2f96485-8712-4176-ced9-76e396ae9611"
      },
      "execution_count": null,
      "outputs": [
        {
          "output_type": "stream",
          "name": "stdout",
          "text": [
            "tf.Tensor(\n",
            "[[1 1 1 1]\n",
            " [1 1 1 1]\n",
            " [1 1 1 1]\n",
            " [1 1 1 1]], shape=(4, 4), dtype=int32)\n"
          ]
        }
      ]
    },
    {
      "cell_type": "code",
      "source": [
        "x_np = np.array([3,4,5])\n",
        "print(x_np)"
      ],
      "metadata": {
        "colab": {
          "base_uri": "https://localhost:8080/"
        },
        "id": "_ib5YMvn9bVw",
        "outputId": "220b0a04-347c-4dff-c4c2-c01f88f818b6"
      },
      "execution_count": null,
      "outputs": [
        {
          "output_type": "stream",
          "name": "stdout",
          "text": [
            "[3 4 5]\n"
          ]
        }
      ]
    },
    {
      "cell_type": "code",
      "source": [
        "x_tf = tf.convert_to_tensor(x_np, dtype = tf.float16)\n",
        "print(x_tf)"
      ],
      "metadata": {
        "colab": {
          "base_uri": "https://localhost:8080/"
        },
        "id": "mECMrtce9kvJ",
        "outputId": "21f5b90a-58cf-4a75-900d-a97cd65df16e"
      },
      "execution_count": null,
      "outputs": [
        {
          "output_type": "stream",
          "name": "stdout",
          "text": [
            "tf.Tensor([3. 4. 5.], shape=(3,), dtype=float16)\n"
          ]
        }
      ]
    },
    {
      "cell_type": "code",
      "source": [
        "identity_matrix = tf.eye(4,\n",
        "    batch_shape=[2],\n",
        "    dtype=tf.dtypes.float32,\n",
        "    name=None\n",
        ")\n",
        "print(identity_matrix)"
      ],
      "metadata": {
        "colab": {
          "base_uri": "https://localhost:8080/"
        },
        "id": "6HpIR2Up9vmF",
        "outputId": "b02dc794-55d1-413c-948d-d996fd456c3e"
      },
      "execution_count": null,
      "outputs": [
        {
          "output_type": "stream",
          "name": "stdout",
          "text": [
            "tf.Tensor(\n",
            "[[[1. 0. 0. 0.]\n",
            "  [0. 1. 0. 0.]\n",
            "  [0. 0. 1. 0.]\n",
            "  [0. 0. 0. 1.]]\n",
            "\n",
            " [[1. 0. 0. 0.]\n",
            "  [0. 1. 0. 0.]\n",
            "  [0. 0. 1. 0.]\n",
            "  [0. 0. 0. 1.]]], shape=(2, 4, 4), dtype=float32)\n"
          ]
        }
      ]
    },
    {
      "cell_type": "code",
      "source": [
        "filled_tensor = tf.fill([4,3], 19)\n",
        "print(filled_tensor)"
      ],
      "metadata": {
        "colab": {
          "base_uri": "https://localhost:8080/"
        },
        "id": "C0tvmI0O_Sbu",
        "outputId": "95f792c5-e823-4b7a-ea1e-57149472d5d3"
      },
      "execution_count": null,
      "outputs": [
        {
          "output_type": "stream",
          "name": "stdout",
          "text": [
            "tf.Tensor(\n",
            "[[19 19 19]\n",
            " [19 19 19]\n",
            " [19 19 19]\n",
            " [19 19 19]], shape=(4, 3), dtype=int32)\n"
          ]
        }
      ]
    },
    {
      "cell_type": "code",
      "source": [
        "ones_tensor = tf.ones([4,3], dtype = tf.float32)\n",
        "print(ones_tensor)"
      ],
      "metadata": {
        "colab": {
          "base_uri": "https://localhost:8080/"
        },
        "id": "0pwVmHKAAl7K",
        "outputId": "3def7c04-124c-4f32-82b6-23e62e1c96bb"
      },
      "execution_count": null,
      "outputs": [
        {
          "output_type": "stream",
          "name": "stdout",
          "text": [
            "tf.Tensor(\n",
            "[[1. 1. 1.]\n",
            " [1. 1. 1.]\n",
            " [1. 1. 1.]\n",
            " [1. 1. 1.]], shape=(4, 3), dtype=float32)\n"
          ]
        }
      ]
    },
    {
      "cell_type": "code",
      "source": [
        "zeros_tensor = tf.zeros([4,3], dtype = tf.float32)\n",
        "print(zeros_tensor)"
      ],
      "metadata": {
        "colab": {
          "base_uri": "https://localhost:8080/"
        },
        "id": "2UE5M0fYAxob",
        "outputId": "b5845444-7de8-4e21-e19a-f54cdbeb25b5"
      },
      "execution_count": null,
      "outputs": [
        {
          "output_type": "stream",
          "name": "stdout",
          "text": [
            "tf.Tensor(\n",
            "[[0. 0. 0.]\n",
            " [0. 0. 0.]\n",
            " [0. 0. 0.]\n",
            " [0. 0. 0.]], shape=(4, 3), dtype=float32)\n"
          ]
        }
      ]
    },
    {
      "cell_type": "code",
      "source": [
        "ones_like_tensor = tf.ones_like(tensor_four_d)\n",
        "print(ones_like_tensor)\n",
        "print(tensor_four_d.shape)"
      ],
      "metadata": {
        "colab": {
          "base_uri": "https://localhost:8080/"
        },
        "id": "Z9g6ehFIBFkP",
        "outputId": "b8a3efb1-0a43-4346-84ab-81d8779ada67"
      },
      "execution_count": null,
      "outputs": [
        {
          "output_type": "stream",
          "name": "stdout",
          "text": [
            "tf.Tensor(\n",
            "[[[[1 1 1]\n",
            "   [1 1 1]]\n",
            "\n",
            "  [[1 1 1]\n",
            "   [1 1 1]]\n",
            "\n",
            "  [[1 1 1]\n",
            "   [1 1 1]]\n",
            "\n",
            "  [[1 1 1]\n",
            "   [1 1 1]]]\n",
            "\n",
            "\n",
            " [[[1 1 1]\n",
            "   [1 1 1]]\n",
            "\n",
            "  [[1 1 1]\n",
            "   [1 1 1]]\n",
            "\n",
            "  [[1 1 1]\n",
            "   [1 1 1]]\n",
            "\n",
            "  [[1 1 1]\n",
            "   [1 1 1]]]\n",
            "\n",
            "\n",
            " [[[1 1 1]\n",
            "   [1 1 1]]\n",
            "\n",
            "  [[1 1 1]\n",
            "   [1 1 1]]\n",
            "\n",
            "  [[1 1 1]\n",
            "   [1 1 1]]\n",
            "\n",
            "  [[1 1 1]\n",
            "   [1 1 1]]]], shape=(3, 4, 2, 3), dtype=int32)\n",
            "(3, 4, 2, 3)\n"
          ]
        }
      ]
    },
    {
      "cell_type": "code",
      "source": [
        "normal_tensor = tf.random_normal_initializer(\n",
        "    mean=0.0, stddev=0.05, seed=None\n",
        ")"
      ],
      "metadata": {
        "id": "EdA66ZSvBvp3"
      },
      "execution_count": null,
      "outputs": []
    },
    {
      "cell_type": "code",
      "source": [
        "print(normal_tensor)"
      ],
      "metadata": {
        "colab": {
          "base_uri": "https://localhost:8080/"
        },
        "id": "_ltE_8SpCKLa",
        "outputId": "c22960f6-2a88-49d8-d8d3-201f199a2624"
      },
      "execution_count": null,
      "outputs": [
        {
          "output_type": "stream",
          "name": "stdout",
          "text": [
            "<tensorflow.python.ops.init_ops_v2.RandomNormal object at 0x7b67a5fb3910>\n"
          ]
        }
      ]
    },
    {
      "cell_type": "code",
      "source": [
        "range_tensor = tf.range(start = 2, limit = 10, delta = 3)\n",
        "print(range_tensor)"
      ],
      "metadata": {
        "colab": {
          "base_uri": "https://localhost:8080/"
        },
        "id": "0oAtRbk6CON_",
        "outputId": "f4c377e1-61e9-4e28-a913-7313c5673653"
      },
      "execution_count": null,
      "outputs": [
        {
          "output_type": "stream",
          "name": "stdout",
          "text": [
            "tf.Tensor([2 5 8], shape=(3,), dtype=int32)\n"
          ]
        }
      ]
    },
    {
      "cell_type": "code",
      "source": [
        "print(tf.shape(tensor_three_d))\n",
        "print(tensor_three_d.shape)"
      ],
      "metadata": {
        "id": "2sGKHsNPCmpw",
        "colab": {
          "base_uri": "https://localhost:8080/"
        },
        "outputId": "24817120-cc58-423b-e155-11e78940b896"
      },
      "execution_count": null,
      "outputs": [
        {
          "output_type": "stream",
          "name": "stdout",
          "text": [
            "tf.Tensor([4 2 3], shape=(3,), dtype=int32)\n",
            "(4, 2, 3)\n"
          ]
        }
      ]
    },
    {
      "cell_type": "code",
      "source": [
        "print(tf.size(tensor_four_d))"
      ],
      "metadata": {
        "colab": {
          "base_uri": "https://localhost:8080/"
        },
        "id": "6HWZVdk_DfwA",
        "outputId": "638d9bb5-2b90-4f0f-d5b9-400ac6e3e0bb"
      },
      "execution_count": null,
      "outputs": [
        {
          "output_type": "stream",
          "name": "stdout",
          "text": [
            "tf.Tensor(72, shape=(), dtype=int32)\n"
          ]
        }
      ]
    },
    {
      "cell_type": "code",
      "source": [
        "g = tf.random.Generator.from_non_deterministic_state()\n",
        "g.normal(shape=(2,), mean = 100, stddev = 1)"
      ],
      "metadata": {
        "colab": {
          "base_uri": "https://localhost:8080/"
        },
        "id": "cKpZLTIMEHMD",
        "outputId": "2407bb2d-3135-445f-8e79-138931002b17"
      },
      "execution_count": null,
      "outputs": [
        {
          "output_type": "execute_result",
          "data": {
            "text/plain": [
              "<tf.Tensor: shape=(2,), dtype=float32, numpy=array([101.583534, 100.3688  ], dtype=float32)>"
            ]
          },
          "metadata": {},
          "execution_count": 22
        }
      ]
    },
    {
      "cell_type": "code",
      "source": [],
      "metadata": {
        "id": "bQhlCxHahgeY"
      },
      "execution_count": null,
      "outputs": []
    },
    {
      "cell_type": "code",
      "source": [
        "g = tf.random.Generator.from_non_deterministic_state()\n",
        "g.uniform(shape=(2,), minval = 25, maxval = 40)"
      ],
      "metadata": {
        "colab": {
          "base_uri": "https://localhost:8080/"
        },
        "id": "qfYUbPiwEQjp",
        "outputId": "892d8485-de90-4733-d75c-4b117eded31d"
      },
      "execution_count": null,
      "outputs": [
        {
          "output_type": "execute_result",
          "data": {
            "text/plain": [
              "<tf.Tensor: shape=(2,), dtype=float32, numpy=array([28.469366, 27.89954 ], dtype=float32)>"
            ]
          },
          "metadata": {},
          "execution_count": 23
        }
      ]
    },
    {
      "cell_type": "code",
      "source": [
        "tf.random.normal(\n",
        "    (3,),\n",
        "    mean=0.0,\n",
        "    stddev=100,\n",
        "    dtype=tf.dtypes.float32,\n",
        "    seed=None,\n",
        "    name=\"Random number with Normal distribution\"\n",
        ")"
      ],
      "metadata": {
        "colab": {
          "base_uri": "https://localhost:8080/"
        },
        "id": "P7IALrg4G-hn",
        "outputId": "123bacd3-9f5c-4f78-c278-4a494bef8aa3"
      },
      "execution_count": null,
      "outputs": [
        {
          "output_type": "execute_result",
          "data": {
            "text/plain": [
              "<tf.Tensor: shape=(3,), dtype=float32, numpy=array([ 120.40747 ,   20.313623, -101.69369 ], dtype=float32)>"
            ]
          },
          "metadata": {},
          "execution_count": 24
        }
      ]
    },
    {
      "cell_type": "code",
      "source": [
        "tf.random.uniform(\n",
        "    (2,),\n",
        "    minval=0,\n",
        "    maxval=100,\n",
        "    dtype=tf.dtypes.float32,\n",
        "    seed=None,\n",
        "    name=None\n",
        ")"
      ],
      "metadata": {
        "colab": {
          "base_uri": "https://localhost:8080/"
        },
        "id": "nrqX5nBKIKKt",
        "outputId": "b0047986-4c1b-400c-ced9-c2878dc42f41"
      },
      "execution_count": null,
      "outputs": [
        {
          "output_type": "execute_result",
          "data": {
            "text/plain": [
              "<tf.Tensor: shape=(2,), dtype=float32, numpy=array([76.19617, 67.06528], dtype=float32)>"
            ]
          },
          "metadata": {},
          "execution_count": 25
        }
      ]
    },
    {
      "cell_type": "code",
      "source": [
        "tensor_indexed = tf.constant([3,6,2,4,6,66,7])\n",
        "print(tensor_indexed)\n",
        "print(tensor_indexed[0:4])\n",
        "print(tensor_indexed[1:5+1])\n",
        "print(tensor_indexed[3:-3])"
      ],
      "metadata": {
        "colab": {
          "base_uri": "https://localhost:8080/"
        },
        "id": "ld3IL3HGIgFi",
        "outputId": "0c03cc6e-72c6-442c-8f6e-1c5adee524e1"
      },
      "execution_count": null,
      "outputs": [
        {
          "output_type": "stream",
          "name": "stdout",
          "text": [
            "tf.Tensor([ 3  6  2  4  6 66  7], shape=(7,), dtype=int32)\n",
            "tf.Tensor([3 6 2 4], shape=(4,), dtype=int32)\n",
            "tf.Tensor([ 6  2  4  6 66], shape=(5,), dtype=int32)\n",
            "tf.Tensor([4], shape=(1,), dtype=int32)\n"
          ]
        }
      ]
    },
    {
      "cell_type": "code",
      "source": [
        "tensor_two_d = tf.constant([[1,2,0],\n",
        "                            [3,5,-1],\n",
        "                            [1,5,6],\n",
        "                            [2,3,8]])\n",
        "\n",
        "#print(tensor_two_d[0:3, :])\n",
        "print(tensor_two_d[...,1])"
      ],
      "metadata": {
        "colab": {
          "base_uri": "https://localhost:8080/"
        },
        "id": "aDaPtHz-JVtt",
        "outputId": "caddaa19-fcd6-45d8-bed9-762fa22262f7"
      },
      "execution_count": null,
      "outputs": [
        {
          "output_type": "stream",
          "name": "stdout",
          "text": [
            "tf.Tensor([2 5 5 3], shape=(4,), dtype=int32)\n"
          ]
        }
      ]
    },
    {
      "cell_type": "code",
      "source": [
        "tensor_three_d = tf.constant([\n",
        "                            [[1,2,0],\n",
        "                             [3,5,-1]],\n",
        "\n",
        "                            [[10,2,0],\n",
        "                             [1,0,2]],\n",
        "\n",
        "                            [[5,8,0],\n",
        "                             [2,7,0]],\n",
        "\n",
        "                            [[2,1,9],\n",
        "                             [4,-3,32]]])\n",
        "#print(tensor_three_d[0, : , :])\n",
        "#print(tensor_three_d[0:2, :, 2])\n",
        "print(tensor_three_d[... , : , 2])"
      ],
      "metadata": {
        "colab": {
          "base_uri": "https://localhost:8080/"
        },
        "id": "mjviHQutMVMV",
        "outputId": "331a7861-575c-4ae4-ea3a-434fce4bfb6a"
      },
      "execution_count": null,
      "outputs": [
        {
          "output_type": "stream",
          "name": "stdout",
          "text": [
            "tf.Tensor(\n",
            "[[ 0 -1]\n",
            " [ 0  2]\n",
            " [ 0  0]\n",
            " [ 9 32]], shape=(4, 2), dtype=int32)\n"
          ]
        }
      ]
    },
    {
      "cell_type": "code",
      "source": [
        "# real number\n",
        "x_abs = tf.constant([-2.25, 3.25])\n",
        "tf.abs(x_abs)"
      ],
      "metadata": {
        "colab": {
          "base_uri": "https://localhost:8080/"
        },
        "id": "QqvVlmGbhkwh",
        "outputId": "d0a84340-88fe-4ee6-e170-03723301c34e"
      },
      "execution_count": null,
      "outputs": [
        {
          "output_type": "execute_result",
          "data": {
            "text/plain": [
              "<tf.Tensor: shape=(2,), dtype=float32, numpy=array([2.25, 3.25], dtype=float32)>"
            ]
          },
          "metadata": {},
          "execution_count": 29
        }
      ]
    },
    {
      "cell_type": "code",
      "source": [
        "tf.abs(tf.constant([-0.2]))"
      ],
      "metadata": {
        "colab": {
          "base_uri": "https://localhost:8080/"
        },
        "id": "GtNRf9cXkDkO",
        "outputId": "eee394bd-c787-4361-e8fc-8f6e5060bc3b"
      },
      "execution_count": null,
      "outputs": [
        {
          "output_type": "execute_result",
          "data": {
            "text/plain": [
              "<tf.Tensor: shape=(1,), dtype=float32, numpy=array([0.2], dtype=float32)>"
            ]
          },
          "metadata": {},
          "execution_count": 30
        }
      ]
    },
    {
      "cell_type": "code",
      "source": [
        "# complex number\n",
        "x_abs_complex = tf.constant([-2.25 + 4.75j])\n",
        "tf.abs(x_abs_complex)  # For a complex number a+bj, its absolute value is computed as square root(a^2+b^2)\n"
      ],
      "metadata": {
        "colab": {
          "base_uri": "https://localhost:8080/"
        },
        "id": "7469yBTZkLzU",
        "outputId": "e24c19ce-380e-42f8-eefe-4fa4cfe4f4f5"
      },
      "execution_count": null,
      "outputs": [
        {
          "output_type": "execute_result",
          "data": {
            "text/plain": [
              "<tf.Tensor: shape=(1,), dtype=float64, numpy=array([5.25594901])>"
            ]
          },
          "metadata": {},
          "execution_count": 31
        }
      ]
    },
    {
      "cell_type": "code",
      "source": [
        "tf.sqrt((-2.25)**2 + 4.75**2)"
      ],
      "metadata": {
        "colab": {
          "base_uri": "https://localhost:8080/"
        },
        "id": "bl-wNk1dk_NA",
        "outputId": "1f56e7cb-58de-4379-cd6c-e47b7fa1d35e"
      },
      "execution_count": null,
      "outputs": [
        {
          "output_type": "execute_result",
          "data": {
            "text/plain": [
              "<tf.Tensor: shape=(), dtype=float32, numpy=5.255949>"
            ]
          },
          "metadata": {},
          "execution_count": 32
        }
      ]
    },
    {
      "cell_type": "code",
      "source": [
        "x_1 = tf.constant([5,3,6,6,4,6], dtype = tf.int32)\n",
        "x_2 = tf.constant([7], dtype = tf.int32)\n",
        "\n",
        "#print(tf.math.divide(x_1, x_2))\n",
        "print(tf.math.add(x_1, x_2))"
      ],
      "metadata": {
        "id": "mUmipSh5lUC0",
        "colab": {
          "base_uri": "https://localhost:8080/"
        },
        "outputId": "81663625-e18f-431e-dfcb-4b359d7b3c62"
      },
      "execution_count": 38,
      "outputs": [
        {
          "output_type": "stream",
          "name": "stdout",
          "text": [
            "tf.Tensor([12 10 13 13 11 13], shape=(6,), dtype=int32)\n"
          ]
        }
      ]
    },
    {
      "cell_type": "code",
      "source": [
        "x_1 = tf.constant([[5,3,6,6,4,6]], dtype = tf.float32)\n",
        "x_2 = tf.constant([[7], [5], [3]], dtype = tf.float32) # both x_1 & x_2 should have 1 to stretch other dimensionin in order to make same\n",
        "print(x_1.shape)\n",
        "print(x_2.shape)\n",
        "print(tf.math.multiply(x_1, x_2))"
      ],
      "metadata": {
        "colab": {
          "base_uri": "https://localhost:8080/"
        },
        "id": "aW8xnVxcs6Qb",
        "outputId": "56dd60e3-59f5-44ea-e826-24856d9ad501"
      },
      "execution_count": 41,
      "outputs": [
        {
          "output_type": "stream",
          "name": "stdout",
          "text": [
            "(1, 6)\n",
            "(3, 1)\n",
            "tf.Tensor(\n",
            "[[35. 21. 42. 42. 28. 42.]\n",
            " [25. 15. 30. 30. 20. 30.]\n",
            " [15.  9. 18. 18. 12. 18.]], shape=(3, 6), dtype=float32)\n"
          ]
        }
      ]
    },
    {
      "cell_type": "code",
      "source": [
        "x_argmax = tf.constant([[2, 20, 30, 3, 6],\n",
        "                        [3, 11, 16, 1, 8],\n",
        "                        [14, 45, 23, 5, 27]])\n",
        "print(x_argmax.shape)\n",
        "print(tf.math.argmin(x_argmax, axis = 1)) # Returns the index with the largest(for argmax) value across hor. axes for axis=1 of a tensor."
      ],
      "metadata": {
        "colab": {
          "base_uri": "https://localhost:8080/"
        },
        "id": "5mgRf0V4tQKK",
        "outputId": "b622416e-5853-45b7-82c2-20e21d94a718"
      },
      "execution_count": 47,
      "outputs": [
        {
          "output_type": "stream",
          "name": "stdout",
          "text": [
            "(3, 5)\n",
            "tf.Tensor([0 3 3], shape=(3,), dtype=int64)\n"
          ]
        }
      ]
    },
    {
      "cell_type": "code",
      "source": [
        "x_argmax = tf.constant([200, 120, 130, 3, 6])\n",
        "# print(tf.math.argmax(x_argmax))\n",
        "print(tf.math.argmin(x_argmax))"
      ],
      "metadata": {
        "colab": {
          "base_uri": "https://localhost:8080/"
        },
        "id": "BeFvGgdevUaT",
        "outputId": "ddae1e7f-7a2f-4324-c556-ea5d79b50a5b"
      },
      "execution_count": 46,
      "outputs": [
        {
          "output_type": "stream",
          "name": "stdout",
          "text": [
            "tf.Tensor(3, shape=(), dtype=int64)\n"
          ]
        }
      ]
    },
    {
      "cell_type": "code",
      "source": [
        "x_argmax = tf.constant([200, 120, 130, 300, 6])\n",
        "print(tf.math.argmax(x_argmax))"
      ],
      "metadata": {
        "colab": {
          "base_uri": "https://localhost:8080/"
        },
        "id": "AWf6k8XTvUgz",
        "outputId": "e945f006-eeb7-4aed-8618-e5b29628b962"
      },
      "execution_count": 45,
      "outputs": [
        {
          "output_type": "stream",
          "name": "stdout",
          "text": [
            "tf.Tensor(3, shape=(), dtype=int64)\n"
          ]
        }
      ]
    },
    {
      "cell_type": "code",
      "source": [
        "x = tf.constant([[2, 2], [3, 3]])\n",
        "y = tf.constant([[3, 0], [1, 4]])\n",
        "tf.pow(x, y)"
      ],
      "metadata": {
        "colab": {
          "base_uri": "https://localhost:8080/"
        },
        "id": "vY3XyQqTv5EU",
        "outputId": "258f5b1d-2b23-44c1-ae35-13f5d6555d6e"
      },
      "execution_count": 49,
      "outputs": [
        {
          "output_type": "execute_result",
          "data": {
            "text/plain": [
              "<tf.Tensor: shape=(2, 2), dtype=int32, numpy=\n",
              "array([[ 8,  1],\n",
              "       [ 3, 81]], dtype=int32)>"
            ]
          },
          "metadata": {},
          "execution_count": 49
        }
      ]
    },
    {
      "cell_type": "code",
      "source": [
        "tf.pow(tf.constant(2), tf.constant(3))"
      ],
      "metadata": {
        "colab": {
          "base_uri": "https://localhost:8080/"
        },
        "id": "HBjdMQA--sIB",
        "outputId": "55e8313e-ca28-4a84-f63a-995d78859f3f"
      },
      "execution_count": 50,
      "outputs": [
        {
          "output_type": "execute_result",
          "data": {
            "text/plain": [
              "<tf.Tensor: shape=(), dtype=int32, numpy=8>"
            ]
          },
          "metadata": {},
          "execution_count": 50
        }
      ]
    },
    {
      "cell_type": "code",
      "source": [
        "tensor_two_d = tf.constant([[1,-2,0],\n",
        "                            [3,5,100],\n",
        "                            [1,5,6],\n",
        "                            [2,3,8]], dtype = tf.float16)\n",
        "\n",
        "print(tensor_two_d.shape)\n",
        "\n",
        "#print(tf.math.reduce_sum(tensor_two_d, axis=0, keepdims=False, name=None))  # axis = 0 represents columns\n",
        "#print(tf.math.reduce_mean(tensor_two_d, axis=0, keepdims=False, name=None))\n",
        "print(tf.math.reduce_std(tensor_two_d, axis=0, keepdims=True, name=None))  # \tkeepdims = true, retains reduced dimensions with length 1\n",
        "\n",
        "#print(tf.math.reduce_max(tensor_two_d, axis=None, keepdims=False, name=None))\n",
        "#print(tf.math.reduce_min(tensor_two_d, axis=None, keepdims=False, name=None))"
      ],
      "metadata": {
        "colab": {
          "base_uri": "https://localhost:8080/"
        },
        "id": "RLKKz80M-7qQ",
        "outputId": "93ad3d59-dda9-41db-c948-fd65ba4d72be"
      },
      "execution_count": 63,
      "outputs": [
        {
          "output_type": "stream",
          "name": "stdout",
          "text": [
            "(4, 3)\n",
            "tf.Tensor([[ 0.829  2.861 41.38 ]], shape=(1, 3), dtype=float16)\n"
          ]
        }
      ]
    },
    {
      "cell_type": "code",
      "source": [
        "tf.math.top_k(tensor_two_d, k=2)  # by default k=1"
      ],
      "metadata": {
        "colab": {
          "base_uri": "https://localhost:8080/"
        },
        "id": "9mTeVKaJCoXm",
        "outputId": "2c846681-56e4-4dd1-d601-8e7d6d212b4e"
      },
      "execution_count": 66,
      "outputs": [
        {
          "output_type": "execute_result",
          "data": {
            "text/plain": [
              "TopKV2(values=<tf.Tensor: shape=(4, 2), dtype=float16, numpy=\n",
              "array([[  1.,   0.],\n",
              "       [100.,   5.],\n",
              "       [  6.,   5.],\n",
              "       [  8.,   3.]], dtype=float16)>, indices=<tf.Tensor: shape=(4, 2), dtype=int32, numpy=\n",
              "array([[0, 2],\n",
              "       [2, 1],\n",
              "       [2, 1],\n",
              "       [2, 1]], dtype=int32)>)"
            ]
          },
          "metadata": {},
          "execution_count": 66
        }
      ]
    }
  ]
}