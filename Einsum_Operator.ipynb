{
  "nbformat": 4,
  "nbformat_minor": 0,
  "metadata": {
    "colab": {
      "provenance": [],
      "authorship_tag": "ABX9TyMDm1mN7Qlnfm9Gyg+SoDKP",
      "include_colab_link": true
    },
    "kernelspec": {
      "name": "python3",
      "display_name": "Python 3"
    },
    "language_info": {
      "name": "python"
    }
  },
  "cells": [
    {
      "cell_type": "markdown",
      "metadata": {
        "id": "view-in-github",
        "colab_type": "text"
      },
      "source": [
        "<a href=\"https://colab.research.google.com/github/Pratik-554/Deep-learning-with-TensorFlow2/blob/main/Einsum_Operator.ipynb\" target=\"_parent\"><img src=\"https://colab.research.google.com/assets/colab-badge.svg\" alt=\"Open In Colab\"/></a>"
      ]
    },
    {
      "cell_type": "code",
      "execution_count": null,
      "metadata": {
        "id": "Rl4JEtTvYd_C"
      },
      "outputs": [],
      "source": [
        "import numpy as np"
      ]
    },
    {
      "cell_type": "code",
      "source": [
        "A = np.array([[2, 6, 5, 2],\n",
        "              [2,-2, 2, 3],\n",
        "              [1, 5, 4, 0]])\n",
        "\n",
        "B = np.array([[2, 9, 0, 3, 0],\n",
        "              [3, 6, 8,-2, 2],\n",
        "              [1, 3, 5, 0, 1],\n",
        "              [3, 0, 2, 0, 5]])\n",
        "print(A.shape)\n",
        "print(B.shape)\n",
        "\n",
        "print(\"Matmul C=: \\n\")\n",
        "print(np.matmul(A,B), \"\\n\")\n",
        "\n",
        "print(\"Einsum C=: \\n\")\n",
        "print(np.einsum(\"ij,jk -> ik\", A,B))"
      ],
      "metadata": {
        "colab": {
          "base_uri": "https://localhost:8080/"
        },
        "id": "90LXXgt2ZGXF",
        "outputId": "4fe59cd4-d3e9-40d5-fd52-039da5606af4"
      },
      "execution_count": null,
      "outputs": [
        {
          "output_type": "stream",
          "name": "stdout",
          "text": [
            "(3, 4)\n",
            "(4, 5)\n",
            "Matmul C=: \n",
            "\n",
            "[[33 69 77 -6 27]\n",
            " [ 9 12  0 10 13]\n",
            " [21 51 60 -7 14]] \n",
            "\n",
            "Einsum C=: \n",
            "\n",
            "[[33 69 77 -6 27]\n",
            " [ 9 12  0 10 13]\n",
            " [21 51 60 -7 14]]\n"
          ]
        }
      ]
    },
    {
      "cell_type": "code",
      "source": [
        "A = np.array([[2, 6, 5, 2],\n",
        "              [2, -2, 2,3],\n",
        "              [1, 5, 4, 0]])\n",
        "B = np.array([[2, 9, 0, 3],\n",
        "              [3, 6, 8,-2],\n",
        "              [1, 3, 5, 0]])\n",
        "print(A.shape, B.shape)\n",
        "\n",
        "print(\"Hardamond C=: \\n\")\n",
        "print(A*B, \"\\n\")\n",
        "\n",
        "print(\"Einsum C=: \\n\")\n",
        "print(np.einsum('ij,ij ->ij', A,B))"
      ],
      "metadata": {
        "colab": {
          "base_uri": "https://localhost:8080/"
        },
        "id": "GyLqpxF1a-H5",
        "outputId": "8e833859-97ca-4d2d-c5b7-8ae67b070fe7"
      },
      "execution_count": null,
      "outputs": [
        {
          "output_type": "stream",
          "name": "stdout",
          "text": [
            "(3, 4) (3, 4)\n",
            "Hardamond C=: \n",
            "\n",
            "[[  4  54   0   6]\n",
            " [  6 -12  16  -6]\n",
            " [  1  15  20   0]] \n",
            "\n",
            "Einsum C=: \n",
            "\n",
            "[[  4  54   0   6]\n",
            " [  6 -12  16  -6]\n",
            " [  1  15  20   0]]\n"
          ]
        }
      ]
    },
    {
      "cell_type": "code",
      "source": [
        "A = np.array([[2, 6, 5, 2],\n",
        "              [2,-2, 2, 3],\n",
        "              [1, 5, 4, 0]])\n",
        "\n",
        "print(\"Transposed A=: \\n\")\n",
        "print(A.T, \"\\n\")\n",
        "\n",
        "print(\"Einsum Transpose A= \\n\")\n",
        "print(np.einsum(\"ij -> ji\", A))"
      ],
      "metadata": {
        "colab": {
          "base_uri": "https://localhost:8080/"
        },
        "id": "ArmM8Ro2diyE",
        "outputId": "5e6d5117-304c-40f1-e595-69f015c36918"
      },
      "execution_count": null,
      "outputs": [
        {
          "output_type": "stream",
          "name": "stdout",
          "text": [
            "Transposed A=: \n",
            "\n",
            "[[ 2  2  1]\n",
            " [ 6 -2  5]\n",
            " [ 5  2  4]\n",
            " [ 2  3  0]] \n",
            "\n",
            "Einsum Transpose A= \n",
            "\n",
            "[[ 2  2  1]\n",
            " [ 6 -2  5]\n",
            " [ 5  2  4]\n",
            " [ 2  3  0]]\n"
          ]
        }
      ]
    },
    {
      "cell_type": "code",
      "source": [
        "A = np.array([\n",
        "               [[2, 6, 5, 2],\n",
        "                [2,-2, 2, 3],\n",
        "                [1, 5, 4, 0]],\n",
        "\n",
        "               [[1, 3, 1, 27],\n",
        "                [0, 2, 2, 0],\n",
        "                [1, 5, 4, 1]] ])\n",
        "\n",
        "B = np.array([\n",
        "               [[2, 9, 0, 3, 0],\n",
        "                [3, 6, 8,-2, 2],\n",
        "                [1, 3, 5, 0, 1],\n",
        "                [3, 0, 2, 0, 5]],\n",
        "\n",
        "               [[1, 0, 0, 3, 0],\n",
        "                [3, 0, 4, -2, 2],\n",
        "                [1, 0, 2, 0, 0],\n",
        "                [3, 0, 1, 1, 0]] ])\n",
        "\n",
        "print(A.shape, B.shape)\n",
        "\n",
        "print(\"Batch Multiplication C =: \\n\")\n",
        "print(np.matmul(A,B), \"\\n\")\n",
        "\n",
        "print(\"Einsum C =: \\n\")\n",
        "print(np.einsum('bij,bjk -> bik', A,B))"
      ],
      "metadata": {
        "id": "9WJjOmHyfeon",
        "colab": {
          "base_uri": "https://localhost:8080/"
        },
        "outputId": "b04c9c1f-df9b-4bc2-e2d0-bb0044af72c2"
      },
      "execution_count": null,
      "outputs": [
        {
          "output_type": "stream",
          "name": "stdout",
          "text": [
            "(2, 3, 4) (2, 4, 5)\n",
            "Batch Multiplication C =: \n",
            "\n",
            "[[[33 69 77 -6 27]\n",
            "  [ 9 12  0 10 13]\n",
            "  [21 51 60 -7 14]]\n",
            "\n",
            " [[92  0 41 24  6]\n",
            "  [ 8  0 12 -4  4]\n",
            "  [23  0 29 -6 10]]] \n",
            "\n",
            "Einsum C =: \n",
            "\n",
            "[[[33 69 77 -6 27]\n",
            "  [ 9 12  0 10 13]\n",
            "  [21 51 60 -7 14]]\n",
            "\n",
            " [[92  0 41 24  6]\n",
            "  [ 8  0 12 -4  4]\n",
            "  [23  0 29 -6 10]]]\n"
          ]
        }
      ]
    },
    {
      "cell_type": "code",
      "source": [
        "A = np.array([\n",
        "               [[2, 6, 5, 2],\n",
        "                [2,-2, 2, 3],\n",
        "                [1, 5, 4, 0]],\n",
        "\n",
        "               [[1, 3, 1, 27],\n",
        "                [0, 2, 2, 0],\n",
        "                [1, 5, 4, 1]] ])\n",
        "\n",
        "print(\"Sum A =: \\n\")\n",
        "print(np.sum(A), \"\\n\")\n",
        "\n",
        "print(\"Einsum A =: \\n\")\n",
        "print(np.einsum('bij -> ', A))"
      ],
      "metadata": {
        "colab": {
          "base_uri": "https://localhost:8080/"
        },
        "id": "sh2hHg5YmYxJ",
        "outputId": "b7cb5425-b592-4dc7-f2f5-0ad254b2ee1e"
      },
      "execution_count": null,
      "outputs": [
        {
          "output_type": "stream",
          "name": "stdout",
          "text": [
            "Sum A =: \n",
            "\n",
            "77 \n",
            "\n",
            "Einsum A =: \n",
            "\n",
            "77\n"
          ]
        }
      ]
    },
    {
      "cell_type": "code",
      "source": [
        "# Inspired from \"Attention is all you need\" paper\n",
        "Q = batchsize, s_q, modelsize\n",
        "K = batchsize, s_k, modelsize"
      ],
      "metadata": {
        "id": "xzcfogLnnDKN"
      },
      "execution_count": null,
      "outputs": []
    },
    {
      "cell_type": "code",
      "source": [
        "Q = np.random.randn(32, 64, 512)\n",
        "K = np.random.randn(32, 128, 512)"
      ],
      "metadata": {
        "id": "L33-006jsS-r"
      },
      "execution_count": null,
      "outputs": []
    },
    {
      "cell_type": "code",
      "source": [
        "np.einsum(\"bqm, bkm -> bqk\", Q,K).shape"
      ],
      "metadata": {
        "colab": {
          "base_uri": "https://localhost:8080/"
        },
        "id": "sElz7_Ifs2cZ",
        "outputId": "27d7c48a-aed2-4b18-afce-460a8778dce5"
      },
      "execution_count": null,
      "outputs": [
        {
          "output_type": "execute_result",
          "data": {
            "text/plain": [
              "(32, 64, 128)"
            ]
          },
          "metadata": {},
          "execution_count": 24
        }
      ]
    },
    {
      "cell_type": "code",
      "source": [
        "# Inspired from \"Attention: The Efficient Transformer\" paper\n",
        "A = np.random.randn(2, 4, 4, 2) # bcij\n",
        "B = np.random.randn(2, 4, 4, 1) # bcik"
      ],
      "metadata": {
        "id": "sLyQHUKPtJK1"
      },
      "execution_count": null,
      "outputs": []
    },
    {
      "cell_type": "code",
      "source": [
        "np.einsum(\"bcik,bcij -> bckj\", B, A).shape"
      ],
      "metadata": {
        "colab": {
          "base_uri": "https://localhost:8080/"
        },
        "id": "LmilrBJ2wUfF",
        "outputId": "ac7618b9-72c5-4670-a39e-5f55d52382af"
      },
      "execution_count": null,
      "outputs": [
        {
          "output_type": "execute_result",
          "data": {
            "text/plain": [
              "(2, 4, 1, 2)"
            ]
          },
          "metadata": {},
          "execution_count": 26
        }
      ]
    },
    {
      "cell_type": "code",
      "source": [
        "np.matmul(np.transpose(B, (0,1,3,2)), A).shape"
      ],
      "metadata": {
        "colab": {
          "base_uri": "https://localhost:8080/"
        },
        "id": "MISWviJpxpAt",
        "outputId": "eee16a97-c9c3-4851-b7c0-689c2139b56a"
      },
      "execution_count": null,
      "outputs": [
        {
          "output_type": "execute_result",
          "data": {
            "text/plain": [
              "(2, 4, 1, 2)"
            ]
          },
          "metadata": {},
          "execution_count": 27
        }
      ]
    }
  ]
}